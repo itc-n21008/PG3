{
 "cells": [
  {
   "cell_type": "code",
   "execution_count": 2,
   "metadata": {},
   "outputs": [
    {
     "name": "stdout",
     "output_type": "stream",
     "text": [
      "True\n"
     ]
    }
   ],
   "source": [
    "print(bool(10))"
   ]
  },
  {
   "cell_type": "code",
   "execution_count": 14,
   "metadata": {},
   "outputs": [
    {
     "data": {
      "text/plain": [
       "'3+6'"
      ]
     },
     "execution_count": 14,
     "metadata": {},
     "output_type": "execute_result"
    }
   ],
   "source": [
    "import random\n",
    "\n",
    "ope_list = ['+', '-', '*', '/']\n",
    "int_list = [1,2,3,4,5,6,7,8,9]\n",
    "\n",
    "intA = random.randint(0,8)\n",
    "opeA = random.randint(0,3)\n",
    "intB = random.randint(0,8)\n",
    "\n",
    "str(int_list[intA])+ope_list[opeA]+str(int_list[intB])\n",
    "\n"
   ]
  },
  {
   "cell_type": "code",
   "execution_count": 17,
   "metadata": {},
   "outputs": [
    {
     "data": {
      "text/plain": [
       "'3%9'"
      ]
     },
     "execution_count": 17,
     "metadata": {},
     "output_type": "execute_result"
    }
   ],
   "source": [
    "import random\n",
    "\n",
    "ope_list = ['+', '-', '*', '/', '//', '**', '%']\n",
    "int_list = [1,2,3,4,5,6,7,8,9]\n",
    "\n",
    "intA = random.randint(0,len(int_list)-1)\n",
    "opeA = random.randint(0,len(ope_list)-1)\n",
    "intB = random.randint(0,len(int_list)-1)\n",
    "\n",
    "str(int_list[intA])+ope_list[opeA]+str(int_list[intB])\n"
   ]
  },
  {
   "cell_type": "code",
   "execution_count": null,
   "metadata": {},
   "outputs": [],
   "source": []
  },
  {
   "cell_type": "code",
   "execution_count": 43,
   "metadata": {},
   "outputs": [
    {
     "name": "stdout",
     "output_type": "stream",
     "text": [
      "1and9and1\n"
     ]
    }
   ],
   "source": [
    "ope_list = ['<', '>', '<=', '>=', '==', '!=', 'and', 'or']\n",
    "int_list = [1,2,3,4,5,6,7,8,9, 'True','False']\n",
    "\n",
    "intA = random.randint(0,len(ope_list)-1)\n",
    "int_form = str(int_list[intA])\n",
    "\n",
    "for a in range(1,3):\n",
    "    intA = random.randint(0,len(ope_list)-1)\n",
    "    intB = random.randint(0,len(int_list)-1)\n",
    "    int_form += ope_list[opeA]+str(int_list[intB])\n",
    "\n",
    "print(int_form)"
   ]
  },
  {
   "cell_type": "code",
   "execution_count": null,
   "metadata": {},
   "outputs": [],
   "source": [
    "ope_list = ['<', '>', '<=', '>=', '==', '!=', 'and', 'or']\n",
    "int_list = [1,2,3,4,5,6,7,8,9, 'True','False']\n",
    "\n",
    "intA = random.randint(0,len(ope_list)-1)\n",
    "int_form = str(int_list[intA])\n",
    "\n",
    "(1):\n",
    "    intA = random.randint(0,len(ope_list)-1)\n",
    "    intB = random.randint(0,len(int_list)-1)\n",
    "    int_form += ope_list[opeA]+str(int_list[intB])\n",
    "    \n",
    "print(int_form)\n",
    "\n"
   ]
  },
  {
   "cell_type": "code",
   "execution_count": 46,
   "metadata": {},
   "outputs": [
    {
     "name": "stdout",
     "output_type": "stream",
     "text": [
      "aiueo\n",
      "aiueo\n",
      "aiueo\n",
      "aiueo\n"
     ]
    }
   ],
   "source": [
    "for i in range(4):\n",
    "    print('aiueo')"
   ]
  },
  {
   "cell_type": "code",
   "execution_count": null,
   "metadata": {},
   "outputs": [],
   "source": []
  }
 ],
 "metadata": {
  "kernelspec": {
   "display_name": "Python 3",
   "language": "python",
   "name": "python3"
  },
  "language_info": {
   "codemirror_mode": {
    "name": "ipython",
    "version": 3
   },
   "file_extension": ".py",
   "mimetype": "text/x-python",
   "name": "python",
   "nbconvert_exporter": "python",
   "pygments_lexer": "ipython3",
   "version": "3.8.10"
  }
 },
 "nbformat": 4,
 "nbformat_minor": 4
}
